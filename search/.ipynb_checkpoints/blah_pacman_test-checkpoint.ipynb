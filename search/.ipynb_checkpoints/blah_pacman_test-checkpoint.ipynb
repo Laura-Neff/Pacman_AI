{
 "cells": [
  {
   "cell_type": "code",
   "execution_count": null,
   "metadata": {},
   "outputs": [
    {
     "name": "stdout",
     "output_type": "stream",
     "text": [
      "[SearchAgent] using function ucs\n",
      "[SearchAgent] using problem type PositionSearchProblem\n",
      "Path found with total cost of 0 in 0.0 seconds\n",
      "Search nodes expanded: 0\n"
     ]
    }
   ],
   "source": [
    "import pacman\n",
    "\n",
    "args = \"-l tinyMaze -p SearchAgent -a fn=ucs\".split(\" \")\n",
    "out = pacman.runGames(**pacman.readCommand(args))"
   ]
  },
  {
   "cell_type": "code",
   "execution_count": 1,
   "metadata": {},
   "outputs": [
    {
     "name": "stderr",
     "output_type": "stream",
     "text": [
      "ERROR:root:No traceback has been produced, nothing to debug.\n"
     ]
    }
   ],
   "source": [
    "%debug"
   ]
  },
  {
   "cell_type": "code",
   "execution_count": 56,
   "metadata": {},
   "outputs": [],
   "source": [
    "class Node:\n",
    "    ## defines a node on a vertex\n",
    "\n",
    "    def __init__(self, vertex, problem=None, path_to=[], path_cost=0):\n",
    "        self.vertex = vertex ##tuple\n",
    "        self.path_to = path_to\n",
    "        self.path_cost = path_cost\n",
    "        self.problem = problem\n",
    "\n",
    "    def getSuccessors(self):\n",
    "        return self.problem.getSuccessors(self.vertex)\n",
    "\n",
    "    def isGoalState(self):\n",
    "        return self.problem.isGoalState(self.vertex)\n",
    "\n",
    "    def __hash__(self): ##for dictionary key usage, maybe required for sets as well\n",
    "        return hash(self.vertex)\n",
    "    \n",
    "    def __eq__(self, other): ##to check if two things are equal, required for sets\n",
    "        return self.vertex == other.vertex\n",
    "    \n",
    "    def __str__(self): ##printing a string representation of the object\n",
    "        return \"<Node object, vertex: %s>\"%str(self.vertex)\n",
    "        "
   ]
  },
  {
   "cell_type": "code",
   "execution_count": 57,
   "metadata": {},
   "outputs": [
    {
     "name": "stdout",
     "output_type": "stream",
     "text": [
      "True\n"
     ]
    }
   ],
   "source": [
    "node1 = Node((1,2))\n",
    "node2 = Node((1,2))\n",
    "#print(node1, node2)\n",
    "\n",
    "print(node1 == node2)"
   ]
  },
  {
   "cell_type": "code",
   "execution_count": 58,
   "metadata": {},
   "outputs": [],
   "source": [
    "newdict = {}\n",
    "newdict[node1] = \"haha\""
   ]
  },
  {
   "cell_type": "code",
   "execution_count": 61,
   "metadata": {},
   "outputs": [
    {
     "data": {
      "text/plain": [
       "{'path_cost': 0, 'path_to': [], 'problem': None, 'vertex': (1, 2)}"
      ]
     },
     "execution_count": 61,
     "metadata": {},
     "output_type": "execute_result"
    }
   ],
   "source": [
    "node1.__dict__"
   ]
  },
  {
   "cell_type": "markdown",
   "metadata": {},
   "source": [
    "# THIS IS COOL"
   ]
  }
 ],
 "metadata": {
  "kernelspec": {
   "display_name": "Python 2",
   "language": "python",
   "name": "python2"
  },
  "language_info": {
   "codemirror_mode": {
    "name": "ipython",
    "version": 2
   },
   "file_extension": ".py",
   "mimetype": "text/x-python",
   "name": "python",
   "nbconvert_exporter": "python",
   "pygments_lexer": "ipython2",
   "version": "2.7.16"
  }
 },
 "nbformat": 4,
 "nbformat_minor": 4
}
